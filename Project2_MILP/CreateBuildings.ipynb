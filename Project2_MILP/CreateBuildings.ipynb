{
 "cells": [
  {
   "cell_type": "code",
   "execution_count": 1,
   "metadata": {},
   "outputs": [],
   "source": [
    "import numpy as np\n",
    "import pandas as pd\n",
    "import matplotlib.pyplot as plt\n",
    "from scipy.optimize import curve_fit\n",
    "from collections import namedtuple\n",
    "from scipy.stats import linregress\n",
    "import os"
   ]
  },
  {
   "cell_type": "code",
   "execution_count": 2,
   "metadata": {},
   "outputs": [],
   "source": [
    "data = ['BC 438.9 94.9 5.65 0.11',\n",
    "'CO 258.3 55.9 3.31 0.07',\n",
    "'BP 189.1 40.9 4.49 0.08',\n",
    "'BS 96.0 20.8 8.55 0.15',\n",
    "'TCV 565.9 122.4 4.83 0.09',\n",
    "'IN 517.1 111.8 4.27 0.07',\n",
    "'GC 541.4 117.1 4.88 0.09',\n",
    "'CE 328.6 71.1 9.71 0.01',\n",
    "'ODY 22.3 4.8 6.59 0.07',\n",
    "'MA 1513.8 327.4 9.85 0.18',\n",
    "'GR 222.7 48.2 2.97 0.01',\n",
    "'ME 853.3 184.5 3.61 0.05',\n",
    "'CM 370.7 80.2 3.57 0.06',\n",
    "'AA 337.1 72.9 8.25 0.00',\n",
    "'BI 113.2 24.5 4.21 0.07',\n",
    "'EL 396.0 85.6 3.66 0.10',\n",
    "'PO 25.8 5.6 4.93 0.10',\n",
    "'CRPP 440.3 95.2 5.25 0.12',\n",
    "'MX 775.2 167.6 4.84 0.15',\n",
    "'BM 660.0 142.7 7.05 0.11',\n",
    "'CH 1291.2 279.2 7.11 0.15',\n",
    "'DIA 0.0 0.0 7.69 0.15',\n",
    "'PH 1213.4 262.4 6.34 0.21',\n",
    "'AI 1066.8 230.7 11.79 0.22']"
   ]
  },
  {
   "cell_type": "code",
   "execution_count": 50,
   "metadata": {},
   "outputs": [],
   "source": [
    "data2 = ['BC 2 17480 418,491 1,603,596',\n",
    "'CO 2 11901 477,008 943,653',\n",
    "'BP 2 10442 457,861 691,031',\n",
    "'BS 2 10267 509,183 350,860',\n",
    "'TCV 2 6095 318,209 2,067,675',\n",
    "'IN 2 24073 1,260,041 1,889,430',\n",
    "'GC 1 26586 1,465,755 1,978,120',\n",
    "'CE 1 16655 1,003,313 1,200,598',\n",
    "'ODY 2 4092 253,199 81,410',\n",
    "'MA 1 14018 889,271 5,531,370',\n",
    "'GR 1 9997 649,081 813,804',\n",
    "'ME 2 17151 1,126,830 3,118,001',\n",
    "'CM 1 18663 1,251,411 1,354,652',\n",
    "'AA + SG 2 18389 1,306,603 1,231,934',\n",
    "'BI 1 4496 345,679 413,651',\n",
    "'EL 2 22127 1,728,630 1,447,090',\n",
    "'PO 2 692 64,607 94,326',\n",
    "'CRPP 2 10831 928,960 1,608,750',\n",
    "'MX 2 25868 2,600,901 2,832,408',\n",
    "'BM 2 19697 2,121,607 2,411,721',\n",
    "'CH + STT 1 28,986 3,217,870 4,717,985',\n",
    "'DIA 2 847 105,136 -',\n",
    "'PH 1 23581 3,036,870 4,433,829',\n",
    "'AI 2 17674 2,768,898 3,898,106']"
   ]
  },
  {
   "cell_type": "code",
   "execution_count": 51,
   "metadata": {},
   "outputs": [],
   "source": [
    "# Initialize arrays\n",
    "Buildings = []\n",
    "E_A       = []\n",
    "E_B       = []\n",
    "kth       = []\n",
    "ksun      = []\n",
    "temp_type = []\n",
    "Ath       = []"
   ]
  },
  {
   "cell_type": "markdown",
   "metadata": {},
   "source": [
    "## TODO:\n",
    "#### Convert units of kth\n",
    "#### "
   ]
  },
  {
   "cell_type": "code",
   "execution_count": 52,
   "metadata": {},
   "outputs": [],
   "source": [
    "for i in data:\n",
    "    lst = i.split()\n",
    "    Buildings.append(lst[0])\n",
    "    E_A.append(lst[1])\n",
    "    E_B.append(lst[2])\n",
    "    kth.append(lst[3])\n",
    "    ksun.append(lst[4])\n",
    "for i in data2:\n",
    "    lst = i.split()\n",
    "    Ath.append(lst[2]) # m2\n",
    "    temp_type.append(lst[1])\n"
   ]
  },
  {
   "cell_type": "code",
   "execution_count": 62,
   "metadata": {},
   "outputs": [],
   "source": [
    "# Q NEEDS TO BE CHANGED\n",
    "Q = 1.2\n",
    "for i in range(len(Buildings)):\n",
    "    filename = 'building_dat/moes' + Buildings[i] + '.dat'\n",
    "    writeToText(filename, Buildings[i], temp_type[i], Ath[i], kth[i], ksun[i], Q, E_A[i], E_B[i])"
   ]
  },
  {
   "cell_type": "code",
   "execution_count": 63,
   "metadata": {},
   "outputs": [],
   "source": [
    "def writeToText (path, buildingname, tempflag, floorarea, kth, ksun, Q, elec1, elec2): \n",
    "    f = open (path, \"w+\")\n",
    "    line = 'let Buildings := Buildings union {' + buildingname + '};\\n'\n",
    "    f.write(line)\n",
    "    if tempflag:\n",
    "        line = 'let MediumTempBuildings := MediumTempBuildings union {' + buildingname + '};\\n'\n",
    "    else:\n",
    "        line = 'let LowTempBuildings := LowTempBuildings union {' + buildingname + '};\\n'\n",
    "    f.write(line)\n",
    "    f.write('###########BUILDING SPECIFIC PARAMETER  Time  Independend ##########################\\n')\n",
    "    line = 'let FloorArea[' + buildingname + '] := ' + floorarea + ';\\n'\n",
    "    f.write(line)\n",
    "    line = 'let k_th[' + buildingname + ']:= ' + kth + ';\\n'\n",
    "    f.write(line)\n",
    "    line = 'let k_sun[' + buildingname + ']:= ' + ksun + ';\\n'\n",
    "    f.write(line)\n",
    "    line = 'let specQ_people[' + buildingname + ']:= ' + str(Q) + ';\\n'\n",
    "    f.write(line)\n",
    "    f.write('###########BUILDING SPECIFIC PARAMETER  Time  Dependend ##########################\\n')\n",
    "    line = 'let specElec[' + buildingname + ',1] := ' + elec1 + ';\\n'\n",
    "    f.write(line)\n",
    "    line = 'let specElec[' + buildingname + ',2] := ' + elec2 + ';\\n'\n",
    "    f.close()"
   ]
  },
  {
   "cell_type": "code",
   "execution_count": null,
   "metadata": {},
   "outputs": [],
   "source": [
    "\n",
    "\n",
    "let Buildings := Buildings union {'Building1'};\t\t\t\t\t\t\t\t# Add \"Building1\" to set of Buildings\n",
    "let MediumTempBuildings := MediumTempBuildings union {'Building1'}; \t\t# Decide if it belongs to Medium or Low Temperature Buildings\n",
    "\n",
    "###########BUILDING SPECIFIC PARAMETER  Time  Independend ##########################\n",
    "\n",
    "let FloorArea['Building1'] := 20000;\n",
    "let k_th['Building1']:= 0.003 ;\t\t\t\t\t\t\t\t\t\t\t\t# ATTENTION unit in kW\n",
    "let k_sun['Building1']:= 0.01;\n",
    "let specQ_people['Building1']:= 0.0025;\t\t\t\t\t\t\t\t\t\t# ATTENTION unit in kW\n",
    "\n",
    "###########BUILDING SPECIFIC PARAMETER  Time  Dependend ##########################\n",
    "let specElec['Building1',1] := 0.0035;\t\t\t\t\t\t\t\t\t\t# ATTENTION unit in kW\n",
    "let specElec['Building1',2] := 0.0030;\t\t\t\t\t\t\t\t\t\t# ATTENTION unit in kW"
   ]
  }
 ],
 "metadata": {
  "kernelspec": {
   "display_name": "Python 3",
   "language": "python",
   "name": "python3"
  },
  "language_info": {
   "codemirror_mode": {
    "name": "ipython",
    "version": 3
   },
   "file_extension": ".py",
   "mimetype": "text/x-python",
   "name": "python",
   "nbconvert_exporter": "python",
   "pygments_lexer": "ipython3",
   "version": "3.6.8"
  }
 },
 "nbformat": 4,
 "nbformat_minor": 2
}
