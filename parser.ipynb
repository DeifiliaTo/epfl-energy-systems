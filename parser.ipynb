{
 "cells": [
  {
   "cell_type": "code",
   "execution_count": 6,
   "metadata": {},
   "outputs": [],
   "source": [
    "import numpy as np\n",
    "import matplotlib.pyplot as plt\n",
    "import os"
   ]
  },
  {
   "cell_type": "code",
   "execution_count": 106,
   "metadata": {},
   "outputs": [],
   "source": [
    "writepath = 'results'\n",
    "filepath = 'Project2_MILP/log'"
   ]
  },
  {
   "cell_type": "code",
   "execution_count": 102,
   "metadata": {},
   "outputs": [],
   "source": [
    "# Initialize all variables\n",
    "Edemand        = []\n",
    "Qheating       = []\n",
    "Qheatingdemand = []\n",
    "mult           = []\n",
    "mult_t         = []\n",
    "Flowin         = []\n",
    "Flowout        = []\n",
    "FlowInUnit     = []\n",
    "FlowOutUnit    = []\n",
    "InvCost        = []\n",
    "OpCost         = []\n",
    "use            = []"
   ]
  },
  {
   "cell_type": "code",
   "execution_count": 103,
   "metadata": {},
   "outputs": [],
   "source": [
    "# Initialize dictionary of variables\n",
    "var_dict = {\n",
    "   \"Edemand\": Edemand,\n",
    "   \"Qheating\": Qheating,\n",
    "   \"Qheatingdemand\": Qheatingdemand,\n",
    "   \"mult\": mult,\n",
    "    \"mult_t\": mult_t,\n",
    "    \"Flowin\": Flowin,\n",
    "    \"Flowout\": Flowout,\n",
    "    \"FlowInUnit\": FlowInUnit,\n",
    "    \"FlowOutUnit\": FlowOutUnit,\n",
    "    \"use\": use,\n",
    "    \"InvCost\": InvCost,\n",
    "    \"OpCost\": OpCost\n",
    "}"
   ]
  },
  {
   "cell_type": "code",
   "execution_count": 104,
   "metadata": {},
   "outputs": [],
   "source": [
    "# Read through entire AMPL file, line by line.\n",
    "f = open (filepath, \"r\")\n",
    "\n",
    "#active_var is the pointer to the variable we want to modify\n",
    "active_var = Edemand;\n",
    "switch = \"case\"\n",
    "\n",
    "# For each line\n",
    "for l in f:\n",
    "    # If we are not at an empty line:\n",
    "    if len(l.strip()) != 0:\n",
    "        line = l.split()\n",
    "        # If we are at the beginning of a new variable, change the variable\n",
    "        if (line[0] in var_dict):\n",
    "            active_var = var_dict[line[0]]\n",
    "            switch = line[0]\n",
    "            # Special case for which \n",
    "            if (switch == \"OpCost\" or switch == \"InvCost\"):\n",
    "                active_var.append(line[2])\n",
    "            continue\n",
    "        elif (line[0] == \";\"):\n",
    "            switch = \"case\"\n",
    "        else:\n",
    "            # As long as we are at a numerical value/something we care about, append the value to the corresponding variable\n",
    "            if (switch != \"case\"):\n",
    "                active_var.append(l.strip())\n",
    "                continue\n",
    "f.close()\n"
   ]
  },
  {
   "cell_type": "code",
   "execution_count": 112,
   "metadata": {},
   "outputs": [],
   "source": [
    "# Write to final text file\n",
    "for key in var_dict:\n",
    "    current_filepath = writepath + \"/\" + key\n",
    "    f = open(current_filepath, \"w+\")\n",
    "    \n",
    "    for line in var_dict[key]:\n",
    "        f.write(line + \"\\n\")\n",
    "    f.close()"
   ]
  },
  {
   "cell_type": "code",
   "execution_count": null,
   "metadata": {},
   "outputs": [],
   "source": []
  }
 ],
 "metadata": {
  "kernelspec": {
   "display_name": "Python 3",
   "language": "python",
   "name": "python3"
  },
  "language_info": {
   "codemirror_mode": {
    "name": "ipython",
    "version": 3
   },
   "file_extension": ".py",
   "mimetype": "text/x-python",
   "name": "python",
   "nbconvert_exporter": "python",
   "pygments_lexer": "ipython3",
   "version": "3.6.8"
  }
 },
 "nbformat": 4,
 "nbformat_minor": 2
}
